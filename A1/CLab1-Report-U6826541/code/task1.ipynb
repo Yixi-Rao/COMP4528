{
 "cells": [
  {
   "cell_type": "code",
   "execution_count": 2,
   "metadata": {},
   "outputs": [],
   "source": [
    "import numpy as np"
   ]
  },
  {
   "cell_type": "code",
   "execution_count": 3,
   "metadata": {},
   "outputs": [
    {
     "data": {
      "text/plain": [
       "array([[ 1,  2,  3],\n",
       "       [ 5,  2, 20]])"
      ]
     },
     "execution_count": 3,
     "metadata": {},
     "output_type": "execute_result"
    }
   ],
   "source": [
    "a = np.array([[1, 2, 3],[5, 2, 20]])\n",
    "a"
   ]
  },
  {
   "cell_type": "code",
   "execution_count": 4,
   "metadata": {},
   "outputs": [
    {
     "data": {
      "text/plain": [
       "array([ 5,  2, 20])"
      ]
     },
     "execution_count": 4,
     "metadata": {},
     "output_type": "execute_result"
    }
   ],
   "source": [
    "b = a[1 , :]\n",
    "b"
   ]
  },
  {
   "cell_type": "code",
   "execution_count": 13,
   "metadata": {},
   "outputs": [
    {
     "data": {
      "text/plain": [
       "'pos: 91, neg: 109'"
      ]
     },
     "execution_count": 13,
     "metadata": {},
     "output_type": "execute_result"
    }
   ],
   "source": [
    "f = np.random.randn(200,1)\n",
    "f.shape\n",
    "pos = 0 \n",
    "neg = 0\n",
    "for i in f:\n",
    "    if i > 0:\n",
    "        pos = pos + 1\n",
    "    else:\n",
    "        neg = neg + 1\n",
    "f\"pos: {pos}, neg: {neg}\""
   ]
  },
  {
   "cell_type": "code",
   "execution_count": 14,
   "metadata": {},
   "outputs": [
    {
     "name": "stdout",
     "output_type": "stream",
     "text": [
      "(91,)\n"
     ]
    }
   ],
   "source": [
    "g = f[ f > 0 ]\n",
    "print(g.shape)\n",
    "for i in g:\n",
    "    if i <= 0:\n",
    "        print(i)"
   ]
  },
  {
   "cell_type": "code",
   "execution_count": 7,
   "metadata": {},
   "outputs": [
    {
     "data": {
      "text/plain": [
       "array([0.5, 0.5, 0.5, 0.5, 0.5, 0.5, 0.5, 0.5, 0.5, 0.5, 0.5, 0.5, 0.5,\n",
       "       0.5, 0.5, 0.5, 0.5, 0.5, 0.5, 0.5, 0.5, 0.5, 0.5, 0.5, 0.5, 0.5,\n",
       "       0.5, 0.5, 0.5, 0.5, 0.5, 0.5, 0.5, 0.5, 0.5, 0.5, 0.5, 0.5, 0.5,\n",
       "       0.5, 0.5, 0.5, 0.5, 0.5, 0.5, 0.5, 0.5, 0.5, 0.5, 0.5])"
      ]
     },
     "execution_count": 7,
     "metadata": {},
     "output_type": "execute_result"
    }
   ],
   "source": [
    "x = np.zeros (50) + 0.5\n",
    "x"
   ]
  },
  {
   "cell_type": "code",
   "execution_count": 8,
   "metadata": {},
   "outputs": [
    {
     "data": {
      "text/plain": [
       "array([[0.5, 0.5, 0.5, 0.5, 0.5, 0.5, 0.5, 0.5, 0.5, 0.5, 0.5, 0.5, 0.5,\n",
       "        0.5, 0.5, 0.5, 0.5, 0.5, 0.5, 0.5, 0.5, 0.5, 0.5, 0.5, 0.5, 0.5,\n",
       "        0.5, 0.5, 0.5, 0.5, 0.5, 0.5, 0.5, 0.5, 0.5, 0.5, 0.5, 0.5, 0.5,\n",
       "        0.5, 0.5, 0.5, 0.5, 0.5, 0.5, 0.5, 0.5, 0.5, 0.5, 0.5]])"
      ]
     },
     "execution_count": 8,
     "metadata": {},
     "output_type": "execute_result"
    }
   ],
   "source": [
    "y = 0.5 * np.ones([1, len(x)])\n",
    "y"
   ]
  },
  {
   "cell_type": "code",
   "execution_count": 9,
   "metadata": {},
   "outputs": [
    {
     "data": {
      "text/plain": [
       "array([[1., 1., 1., 1., 1., 1., 1., 1., 1., 1., 1., 1., 1., 1., 1., 1.,\n",
       "        1., 1., 1., 1., 1., 1., 1., 1., 1., 1., 1., 1., 1., 1., 1., 1.,\n",
       "        1., 1., 1., 1., 1., 1., 1., 1., 1., 1., 1., 1., 1., 1., 1., 1.,\n",
       "        1., 1.]])"
      ]
     },
     "execution_count": 9,
     "metadata": {},
     "output_type": "execute_result"
    }
   ],
   "source": [
    "z = x + y\n",
    "z"
   ]
  },
  {
   "cell_type": "code",
   "execution_count": 10,
   "metadata": {},
   "outputs": [
    {
     "data": {
      "text/plain": [
       "array([  1.        ,   5.06122449,   9.12244898,  13.18367347,\n",
       "        17.24489796,  21.30612245,  25.36734694,  29.42857143,\n",
       "        33.48979592,  37.55102041,  41.6122449 ,  45.67346939,\n",
       "        49.73469388,  53.79591837,  57.85714286,  61.91836735,\n",
       "        65.97959184,  70.04081633,  74.10204082,  78.16326531,\n",
       "        82.2244898 ,  86.28571429,  90.34693878,  94.40816327,\n",
       "        98.46938776, 102.53061224, 106.59183673, 110.65306122,\n",
       "       114.71428571, 118.7755102 , 122.83673469, 126.89795918,\n",
       "       130.95918367, 135.02040816, 139.08163265, 143.14285714,\n",
       "       147.20408163, 151.26530612, 155.32653061, 159.3877551 ,\n",
       "       163.44897959, 167.51020408, 171.57142857, 175.63265306,\n",
       "       179.69387755, 183.75510204, 187.81632653, 191.87755102,\n",
       "       195.93877551, 200.        ])"
      ]
     },
     "execution_count": 10,
     "metadata": {},
     "output_type": "execute_result"
    }
   ],
   "source": [
    "a = np.linspace(1,200)\n",
    "a"
   ]
  },
  {
   "cell_type": "code",
   "execution_count": 11,
   "metadata": {},
   "outputs": [
    {
     "data": {
      "text/plain": [
       "array([200.        , 195.93877551, 191.87755102, 187.81632653,\n",
       "       183.75510204, 179.69387755, 175.63265306, 171.57142857,\n",
       "       167.51020408, 163.44897959, 159.3877551 , 155.32653061,\n",
       "       151.26530612, 147.20408163, 143.14285714, 139.08163265,\n",
       "       135.02040816, 130.95918367, 126.89795918, 122.83673469,\n",
       "       118.7755102 , 114.71428571, 110.65306122, 106.59183673,\n",
       "       102.53061224,  98.46938776,  94.40816327,  90.34693878,\n",
       "        86.28571429,  82.2244898 ,  78.16326531,  74.10204082,\n",
       "        70.04081633,  65.97959184,  61.91836735,  57.85714286,\n",
       "        53.79591837,  49.73469388,  45.67346939,  41.6122449 ,\n",
       "        37.55102041,  33.48979592,  29.42857143,  25.36734694,\n",
       "        21.30612245,  17.24489796,  13.18367347,   9.12244898,\n",
       "         5.06122449,   1.        ])"
      ]
     },
     "execution_count": 11,
     "metadata": {},
     "output_type": "execute_result"
    }
   ],
   "source": [
    "b = a[: :-1]"
   ]
  },
  {
   "cell_type": "code",
   "execution_count": 12,
   "metadata": {},
   "outputs": [
    {
     "data": {
      "text/plain": [
       "array([200.        , 195.93877551, 191.87755102, 187.81632653,\n",
       "       183.75510204, 179.69387755, 175.63265306, 171.57142857,\n",
       "       167.51020408, 163.44897959, 159.3877551 , 155.32653061,\n",
       "       151.26530612, 147.20408163, 143.14285714, 139.08163265,\n",
       "       135.02040816, 130.95918367, 126.89795918, 122.83673469,\n",
       "       118.7755102 , 114.71428571, 110.65306122, 106.59183673,\n",
       "       102.53061224,  98.46938776,  94.40816327,  90.34693878,\n",
       "        86.28571429,  82.2244898 ,  78.16326531,  74.10204082,\n",
       "        70.04081633,  65.97959184,  61.91836735,  57.85714286,\n",
       "        53.79591837,  49.73469388,  45.67346939,  41.6122449 ,\n",
       "        37.55102041,   0.        ,   0.        ,   0.        ,\n",
       "         0.        ,   0.        ,   0.        ,   0.        ,\n",
       "         0.        ,   0.        ])"
      ]
     },
     "execution_count": 12,
     "metadata": {},
     "output_type": "execute_result"
    }
   ],
   "source": [
    "b[b <35]=0\n",
    "b"
   ]
  }
 ],
 "metadata": {
  "interpreter": {
   "hash": "813112ed64e20f51b539095a608bda2b54bfc9bcb8cdad5fb223e90931f4f9a3"
  },
  "kernelspec": {
   "display_name": "Python 3.8.5 ('base')",
   "language": "python",
   "name": "python3"
  },
  "language_info": {
   "codemirror_mode": {
    "name": "ipython",
    "version": 3
   },
   "file_extension": ".py",
   "mimetype": "text/x-python",
   "name": "python",
   "nbconvert_exporter": "python",
   "pygments_lexer": "ipython3",
   "version": "3.8.5"
  },
  "orig_nbformat": 4
 },
 "nbformat": 4,
 "nbformat_minor": 2
}
